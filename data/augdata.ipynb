{
 "cells": [
  {
   "cell_type": "code",
   "execution_count": 1,
   "metadata": {
    "pycharm": {
     "is_executing": true
    }
   },
   "outputs": [
    {
     "ename": "KeyboardInterrupt",
     "evalue": "",
     "output_type": "error",
     "traceback": [
      "\u001b[0;31m---------------------------------------------------------------------------\u001b[0m",
      "\u001b[0;31mKeyboardInterrupt\u001b[0m                         Traceback (most recent call last)",
      "\u001b[0;32m<ipython-input-1-2949a4dabe42>\u001b[0m in \u001b[0;36m<module>\u001b[0;34m()\u001b[0m\n\u001b[0;32m----> 1\u001b[0;31m \u001b[0;32mimport\u001b[0m \u001b[0mimgaug\u001b[0m \u001b[0;32mas\u001b[0m \u001b[0mia\u001b[0m\u001b[0;34m\u001b[0m\u001b[0m\n\u001b[0m\u001b[1;32m      2\u001b[0m \u001b[0;32mimport\u001b[0m \u001b[0mimageio\u001b[0m\u001b[0;34m\u001b[0m\u001b[0m\n\u001b[1;32m      3\u001b[0m \u001b[0;32mimport\u001b[0m \u001b[0mimgaug\u001b[0m\u001b[0;34m.\u001b[0m\u001b[0maugmenters\u001b[0m \u001b[0;32mas\u001b[0m \u001b[0miaa\u001b[0m\u001b[0;34m\u001b[0m\u001b[0m\n\u001b[1;32m      4\u001b[0m \u001b[0;32mfrom\u001b[0m \u001b[0mimgaug\u001b[0m\u001b[0;34m.\u001b[0m\u001b[0maugmentables\u001b[0m\u001b[0;34m.\u001b[0m\u001b[0mbbs\u001b[0m \u001b[0;32mimport\u001b[0m \u001b[0mBoundingBox\u001b[0m\u001b[0;34m,\u001b[0m \u001b[0mBoundingBoxesOnImage\u001b[0m\u001b[0;34m\u001b[0m\u001b[0m\n\u001b[1;32m      5\u001b[0m \u001b[0;32mimport\u001b[0m \u001b[0mos\u001b[0m\u001b[0;34m\u001b[0m\u001b[0m\n",
      "\u001b[0;32m~/anaconda3/envs/torch/lib/python3.6/site-packages/imgaug/__init__.py\u001b[0m in \u001b[0;36m<module>\u001b[0;34m()\u001b[0m\n\u001b[1;32m      5\u001b[0m \u001b[0;31m# classes/functions, hence always place the other imports below this so that\u001b[0m\u001b[0;34m\u001b[0m\u001b[0;34m\u001b[0m\u001b[0m\n\u001b[1;32m      6\u001b[0m \u001b[0;31m# the deprecated stuff gets overwritten as much as possible\u001b[0m\u001b[0;34m\u001b[0m\u001b[0;34m\u001b[0m\u001b[0m\n\u001b[0;32m----> 7\u001b[0;31m \u001b[0;32mfrom\u001b[0m \u001b[0mimgaug\u001b[0m\u001b[0;34m.\u001b[0m\u001b[0mimgaug\u001b[0m \u001b[0;32mimport\u001b[0m \u001b[0;34m*\u001b[0m  \u001b[0;31m# pylint: disable=redefined-builtin\u001b[0m\u001b[0;34m\u001b[0m\u001b[0m\n\u001b[0m\u001b[1;32m      8\u001b[0m \u001b[0;34m\u001b[0m\u001b[0m\n\u001b[1;32m      9\u001b[0m \u001b[0;32mimport\u001b[0m \u001b[0mimgaug\u001b[0m\u001b[0;34m.\u001b[0m\u001b[0maugmentables\u001b[0m \u001b[0;32mas\u001b[0m \u001b[0maugmentables\u001b[0m\u001b[0;34m\u001b[0m\u001b[0m\n",
      "\u001b[0;32m~/anaconda3/envs/torch/lib/python3.6/site-packages/imgaug/imgaug.py\u001b[0m in \u001b[0;36m<module>\u001b[0;34m()\u001b[0m\n\u001b[1;32m     16\u001b[0m \u001b[0;34m\u001b[0m\u001b[0m\n\u001b[1;32m     17\u001b[0m \u001b[0;32mimport\u001b[0m \u001b[0mnumpy\u001b[0m \u001b[0;32mas\u001b[0m \u001b[0mnp\u001b[0m\u001b[0;34m\u001b[0m\u001b[0m\n\u001b[0;32m---> 18\u001b[0;31m \u001b[0;32mimport\u001b[0m \u001b[0mcv2\u001b[0m\u001b[0;34m\u001b[0m\u001b[0m\n\u001b[0m\u001b[1;32m     19\u001b[0m \u001b[0;32mimport\u001b[0m \u001b[0mimageio\u001b[0m\u001b[0;34m\u001b[0m\u001b[0m\n\u001b[1;32m     20\u001b[0m \u001b[0;32mimport\u001b[0m \u001b[0msix\u001b[0m\u001b[0;34m\u001b[0m\u001b[0m\n",
      "\u001b[0;32m~/anaconda3/envs/torch/lib/python3.6/site-packages/cv2/__init__.py\u001b[0m in \u001b[0;36m<module>\u001b[0;34m()\u001b[0m\n\u001b[1;32m      3\u001b[0m \u001b[0;32mimport\u001b[0m \u001b[0msys\u001b[0m\u001b[0;34m\u001b[0m\u001b[0m\n\u001b[1;32m      4\u001b[0m \u001b[0;34m\u001b[0m\u001b[0m\n\u001b[0;32m----> 5\u001b[0;31m \u001b[0;32mfrom\u001b[0m \u001b[0;34m.\u001b[0m\u001b[0mcv2\u001b[0m \u001b[0;32mimport\u001b[0m \u001b[0;34m*\u001b[0m\u001b[0;34m\u001b[0m\u001b[0m\n\u001b[0m\u001b[1;32m      6\u001b[0m \u001b[0;32mfrom\u001b[0m \u001b[0;34m.\u001b[0m\u001b[0mdata\u001b[0m \u001b[0;32mimport\u001b[0m \u001b[0;34m*\u001b[0m\u001b[0;34m\u001b[0m\u001b[0m\n\u001b[1;32m      7\u001b[0m \u001b[0;34m\u001b[0m\u001b[0m\n",
      "\u001b[0;31mKeyboardInterrupt\u001b[0m: "
     ]
    }
   ],
   "source": [
    "import imgaug as ia\n",
    "import imageio\n",
    "import imgaug.augmenters as iaa\n",
    "from imgaug.augmentables.bbs import BoundingBox, BoundingBoxesOnImage\n",
    "import os\n",
    "import xml.etree.ElementTree as ET\n",
    "from PIL import Image\n",
    "\n",
    "sometimes = lambda aug: iaa.Sometimes(0.5, aug)\n",
    "seq = iaa.Sequential([\n",
    "    iaa.Add((-15,30)),\n",
    "    iaa.AdditiveGaussianNoise(scale=0.01*255,per_channel=True),\n",
    "    #iaa.PiecewiseAffine(scale=(0.001, 0.003)),\n",
    "    sometimes(iaa.Crop(percent=(0, 0.1))),\n",
    "    iaa.SomeOf((0, 5),\n",
    "            [\n",
    "                # Convert some images into their superpixel representation,\n",
    "                # sample between 20 and 200 superpixels per image, but do\n",
    "                # not replace all superpixels with their average, only\n",
    "                # some of them (p_replace).\n",
    "                sometimes(\n",
    "                    iaa.Superpixels(\n",
    "                        p_replace=(0, 1.0),\n",
    "                        n_segments=(20, 200)\n",
    "                    )\n",
    "                ),\n",
    "\n",
    "                # Blur each image with varying strength using\n",
    "                # gaussian blur (sigma between 0 and 3.0),\n",
    "                # average/uniform blur (kernel size between 2x2 and 7x7)\n",
    "                # median blur (kernel size between 3x3 and 11x11).\n",
    "                iaa.OneOf([\n",
    "                    iaa.GaussianBlur((0, 1.5)),\n",
    "                    iaa.AverageBlur(k=(2, 3)),\n",
    "                    iaa.MedianBlur(k=(1, 3)),\n",
    "                ]),\n",
    "\n",
    "                # Sharpen each image, overlay the result with the original\n",
    "                # image using an alpha between 0 (no sharpening) and 1\n",
    "                # (full sharpening effect).\n",
    "                iaa.Sharpen(alpha=(0, 1.0), lightness=(0.75, 1.5)),\n",
    "\n",
    "                # Same as sharpen, but for an embossing effect.\n",
    "                iaa.Emboss(alpha=(0, 1.0), strength=(0, 2.0)),\n",
    "\n",
    "                # Search in some images either for all edges or for\n",
    "                # directed edges. These edges are then marked in a black\n",
    "                # and white image and overlayed with the original image\n",
    "                # using an alpha of 0 to 0.7.\n",
    "                sometimes(iaa.OneOf([\n",
    "                    iaa.EdgeDetect(alpha=(0, 0.7)),\n",
    "                    iaa.DirectedEdgeDetect(\n",
    "                        alpha=(0, 0.7), direction=(0.0, 1.0)\n",
    "                                            ),\n",
    "                ]))]),\n",
    "    # Invert each image's channel with 5% probability.\n",
    "    # This sets each pixel value v to 255-v.\n",
    "    #iaa.Invert(0.05, per_channel=True), # invert color channels\n",
    "\n",
    "    # Add a value of -10 to 10 to each pixel.\n",
    "    #iaa.Add((-10, 10), per_channel=0.5),\n",
    "\n",
    "    # Change brightness of images (50-150% of original value).\n",
    "    iaa.Multiply((0.5, 1.5), per_channel=0.5),\n",
    "\n",
    "    # Improve or worsen the contrast of images.\n",
    "    iaa.LinearContrast((0.5, 2.0), per_channel=0.5),\n",
    "\n",
    "    # Convert each image to grayscale and then overlay the\n",
    "    # result with the original with random alpha. I.e. remove\n",
    "    # colors with varying strengths.\n",
    "    #iaa.Grayscale(alpha=(0.0, 1.0)),\n",
    "    #sometimes(iaa.PiecewiseAffine(scale=(0.01, 0.05))),\n",
    "    iaa.Fliplr(0.5), # horizontally flip 50% of all images\n",
    "    iaa.Flipud(0.2),\n",
    "    iaa.Multiply((0.5, 1.5), per_channel=0.5),\n",
    "    iaa.Affine(scale=(0.8,1.2),rotate=(-45,45),shear=(-30,30))\n",
    "],random_order=True)\n",
    "\"\"\"\n",
    "seq = iaa.Sequential([\n",
    "    iaa.Fliplr(0.5), # horizontal flips\n",
    "    iaa.Crop(percent=(0, 0.1)), # random crops\n",
    "    # Small gaussian blur with random sigma between 0 and 0.5.\n",
    "    # But we only blur about 50% of all images.\n",
    "    iaa.Sometimes(\n",
    "        0.5,\n",
    "        iaa.GaussianBlur(sigma=(0, 0.5))\n",
    "    ),\n",
    "    # Strengthen or weaken the contrast in each image.\n",
    "    iaa.LinearContrast((0.75, 1.5)),\n",
    "    # Add gaussian noise.\n",
    "    # For 50% of all images, we sample the noise once per pixel.\n",
    "    # For the other 50% of all images, we sample the noise per pixel AND\n",
    "    # channel. This can change the color (not only brightness) of the\n",
    "    # pixels.\n",
    "    iaa.AdditiveGaussianNoise(loc=0, scale=(0.0, 0.05*255), per_channel=0.5),\n",
    "    # Make some images brighter and some darker.\n",
    "    # In 20% of all cases, we sample the multiplier once per channel,\n",
    "    # which can end up changing the color of the images.\n",
    "    iaa.Multiply((0.8, 1.2), per_channel=0.2),\n",
    "    # Apply affine transformations to each image.\n",
    "    # Scale/zoom them, translate/move them, rotate them and shear them.\n",
    "    iaa.Affine(\n",
    "        scale={\"x\": (0.8, 1.2), \"y\": (0.8, 1.2)},\n",
    "        translate_percent={\"x\": (-0.2, 0.2), \"y\": (-0.2, 0.2)},\n",
    "        rotate=(-25, 25),\n",
    "        shear=(-8, 8)\n",
    "    )\n",
    "], random_order=True)\"\"\"\n",
    "\n",
    "datapath = \"./trashV2/JPEGImages/\"\n",
    "xmlpath = \"./trashV2/Annotations/\"\n",
    "count = 0\n",
    "datalist = os.listdir(datapath)\n",
    "for imagename in datalist:\n",
    "    if \".jpg\" in imagename:\n",
    "        count +=1\n",
    "        image = imageio.imread(os.path.join(datapath,imagename))\n",
    "        print(imagename,len(datalist)-count)\n",
    "        xml = ET.parse(os.path.join(xmlpath,imagename.split(\".\")[0]+\".xml\"))\n",
    "        root = xml.getroot()\n",
    "        objects = root.findall(\"object\")\n",
    "        boundingBoxList = []\n",
    "        xmin = []\n",
    "        xmax = []\n",
    "        ymin = []\n",
    "        ymax = []\n",
    "        for index, item in enumerate(objects):\n",
    "            boundingBox = item.find(\"bndbox\")\n",
    "            xmin.append(boundingBox.find(\"xmin\"))\n",
    "            xmax.append(boundingBox.find(\"xmax\"))\n",
    "            ymin.append(boundingBox.find(\"ymin\"))\n",
    "            ymax.append(boundingBox.find(\"ymax\"))\n",
    "            boundingBoxList.append(BoundingBox(x1=int(xmin[index].text),\n",
    "                                               x2=int(xmax[index].text),\n",
    "                                               y1=int(ymin[index].text),\n",
    "                                               y2=int(ymax[index].text)))\n",
    "        boundingBoxes = BoundingBoxesOnImage(boundingBoxList,shape=(image.shape[0],image.shape[1]))\n",
    "        augedImage, augedBoxes = seq(image=image,bounding_boxes=boundingBoxes)\n",
    "        for index, box in enumerate(augedBoxes):\n",
    "            xmin[index].text = str(int(box.x1))\n",
    "            xmax[index].text = str(int(box.x2))\n",
    "            ymin[index].text = str(int(box.y1))\n",
    "            ymax[index].text = str(int(box.y2))\n",
    "        newname = imagename.split(\".\")[0]+\"_Aug1.jpg\"\n",
    "        img = Image.fromarray(augedImage).convert('RGB')\n",
    "        img.save(os.path.join(datapath,newname))\n",
    "        xml.write(os.path.join(xmlpath,newname.split(\".\")[0]+\".xml\"))\n",
    "\n"
   ]
  },
  {
   "cell_type": "code",
   "execution_count": null,
   "metadata": {},
   "outputs": [],
   "source": []
  },
  {
   "cell_type": "code",
   "execution_count": 2,
   "metadata": {},
   "outputs": [
    {
     "name": "stdout",
     "output_type": "stream",
     "text": [
      "192\n"
     ]
    }
   ],
   "source": [
    "import os\n",
    "count = 0\n",
    "for item in os.listdir(\"../../data/trashV2/JPEGImages\"):\n",
    "    if \"test\" in item and \"jpg\" in item:\n",
    "        count+=1\n",
    "print(count)"
   ]
  },
  {
   "cell_type": "code",
   "execution_count": 2,
   "metadata": {
    "pycharm": {
     "is_executing": false
    }
   },
   "outputs": [
    {
     "ename": "FileNotFoundError",
     "evalue": "[Errno 2] No such file or directory: 'trashV2/JPEGImages'",
     "output_type": "error",
     "traceback": [
      "\u001b[0;31m---------------------------------------------------------------------------\u001b[0m",
      "\u001b[0;31mFileNotFoundError\u001b[0m                         Traceback (most recent call last)",
      "\u001b[0;32m<ipython-input-2-25995cbef146>\u001b[0m in \u001b[0;36m<module>\u001b[0;34m()\u001b[0m\n\u001b[1;32m      4\u001b[0m \u001b[0mcount\u001b[0m \u001b[0;34m=\u001b[0m \u001b[0;36m1\u001b[0m\u001b[0;34m\u001b[0m\u001b[0m\n\u001b[1;32m      5\u001b[0m \u001b[0;32mimport\u001b[0m \u001b[0mxml\u001b[0m\u001b[0;34m.\u001b[0m\u001b[0metree\u001b[0m\u001b[0;34m.\u001b[0m\u001b[0mElementTree\u001b[0m \u001b[0;32mas\u001b[0m \u001b[0mET\u001b[0m\u001b[0;34m\u001b[0m\u001b[0m\n\u001b[0;32m----> 6\u001b[0;31m \u001b[0;32mfor\u001b[0m \u001b[0mitem\u001b[0m \u001b[0;32min\u001b[0m \u001b[0mos\u001b[0m\u001b[0;34m.\u001b[0m\u001b[0mlistdir\u001b[0m\u001b[0;34m(\u001b[0m\u001b[0mdatadir\u001b[0m\u001b[0;34m)\u001b[0m\u001b[0;34m:\u001b[0m\u001b[0;34m\u001b[0m\u001b[0m\n\u001b[0m\u001b[1;32m      7\u001b[0m     \u001b[0mnewname\u001b[0m \u001b[0;34m=\u001b[0m \u001b[0;34m\"image_\"\u001b[0m\u001b[0;34m+\u001b[0m\u001b[0mstr\u001b[0m\u001b[0;34m(\u001b[0m\u001b[0mcount\u001b[0m\u001b[0;34m)\u001b[0m\u001b[0;34m+\u001b[0m\u001b[0;34m\".jpg\"\u001b[0m\u001b[0;34m\u001b[0m\u001b[0m\n\u001b[1;32m      8\u001b[0m     \u001b[0mxmlname\u001b[0m \u001b[0;34m=\u001b[0m \u001b[0mitem\u001b[0m\u001b[0;34m.\u001b[0m\u001b[0msplit\u001b[0m\u001b[0;34m(\u001b[0m\u001b[0;34m\".\"\u001b[0m\u001b[0;34m)\u001b[0m\u001b[0;34m[\u001b[0m\u001b[0;36m0\u001b[0m\u001b[0;34m]\u001b[0m\u001b[0;34m+\u001b[0m\u001b[0;34m\".xml\"\u001b[0m\u001b[0;34m\u001b[0m\u001b[0m\n",
      "\u001b[0;31mFileNotFoundError\u001b[0m: [Errno 2] No such file or directory: 'trashV2/JPEGImages'"
     ]
    }
   ],
   "source": [
    "import os\n",
    "datadir = \"trashV2/JPEGImages\"\n",
    "xmldir = \"trashV2/Annotations\"\n",
    "count = 1\n",
    "import xml.etree.ElementTree as ET\n",
    "for item in os.listdir(datadir):\n",
    "    newname = \"image_\"+str(count)+\".jpg\"\n",
    "    xmlname = item.split(\".\")[0]+\".xml\"\n",
    "    tree = ET.parse(os.path.join(xmldir,xmlname))\n",
    "    root = tree.getroot()\n",
    "    filename = root.find(\"filename\")\n",
    "    print(filename.text)\n",
    "    filename.text = newname\n",
    "    tree.write(os.path.join(xmldir,xmlname))\n",
    "    newxmlname = newname.split(\".\")[0]+\".xml\"\n",
    "    print(newxmlname)\n",
    "    count +=1\n",
    "    os.rename(os.path.join(datadir,item),os.path.join(datadir,newname))\n",
    "    os.rename(os.path.join(xmldir,xmlname),os.path.join(xmldir,newxmlname))"
   ]
  },
  {
   "cell_type": "code",
   "execution_count": 32,
   "metadata": {},
   "outputs": [],
   "source": [
    "import imgaug.augmenters as iaa\n",
    "aug = iaa.PiecewiseAffine(scale=(0.15))"
   ]
  },
  {
   "cell_type": "code",
   "execution_count": 33,
   "metadata": {},
   "outputs": [],
   "source": [
    "import imageio\n",
    "import imgaug as ia\n",
    "%matplotlib inline\n",
    "\n",
    "image = imageio.imread(\"/Users/yuanlin/Desktop/image_1.jpg\")\n",
    "new_image = aug(image=image)"
   ]
  },
  {
   "cell_type": "code",
   "execution_count": 34,
   "metadata": {},
   "outputs": [],
   "source": [
    "imageio.imwrite(\"/Users/yuanlin/Desktop/result.jpg\",new_image)"
   ]
  },
  {
   "cell_type": "code",
   "execution_count": null,
   "metadata": {},
   "outputs": [],
   "source": []
  },
  {
   "cell_type": "code",
   "execution_count": null,
   "metadata": {},
   "outputs": [],
   "source": []
  }
 ],
 "metadata": {
  "kernelspec": {
   "display_name": "Python 3",
   "language": "python",
   "name": "python3"
  },
  "language_info": {
   "codemirror_mode": {
    "name": "ipython",
    "version": 3
   },
   "file_extension": ".py",
   "mimetype": "text/x-python",
   "name": "python",
   "nbconvert_exporter": "python",
   "pygments_lexer": "ipython3",
   "version": "3.6.2"
  },
  "pycharm": {
   "stem_cell": {
    "cell_type": "raw",
    "metadata": {
     "collapsed": false
    },
    "source": []
   }
  }
 },
 "nbformat": 4,
 "nbformat_minor": 4
}
